{
  "nbformat": 4,
  "nbformat_minor": 0,
  "metadata": {
    "colab": {
      "provenance": [],
      "gpuType": "T4"
    },
    "kernelspec": {
      "name": "python3",
      "display_name": "Python 3"
    },
    "language_info": {
      "name": "python"
    },
    "accelerator": "GPU"
  },
  "cells": [
    {
      "cell_type": "code",
      "execution_count": 83,
      "metadata": {
        "id": "yIroG70TNn_i"
      },
      "outputs": [],
      "source": [
        "import torch\n",
        "import torch.nn as nn\n",
        "import matplotlib.pyplot as plt\n"
      ]
    },
    {
      "cell_type": "code",
      "source": [
        "weight=0.7\n",
        "bias=0.3\n",
        "\n",
        "start=0\n",
        "end=1\n",
        "step=0.02\n",
        "X=torch.arange(start, end, step).unsqueeze(1)"
      ],
      "metadata": {
        "id": "3AN1SZfJOr85"
      },
      "execution_count": 84,
      "outputs": []
    },
    {
      "cell_type": "code",
      "source": [
        "X.shape"
      ],
      "metadata": {
        "colab": {
          "base_uri": "https://localhost:8080/"
        },
        "id": "m0hiZXSrPKRp",
        "outputId": "a004833a-be8b-4eb9-e99f-91f5b97f80c5"
      },
      "execution_count": 85,
      "outputs": [
        {
          "output_type": "execute_result",
          "data": {
            "text/plain": [
              "torch.Size([50, 1])"
            ]
          },
          "metadata": {},
          "execution_count": 85
        }
      ]
    },
    {
      "cell_type": "code",
      "source": [
        "y=X*weight + bias"
      ],
      "metadata": {
        "id": "T24eJJj5PN01"
      },
      "execution_count": 86,
      "outputs": []
    },
    {
      "cell_type": "code",
      "source": [
        "y"
      ],
      "metadata": {
        "colab": {
          "base_uri": "https://localhost:8080/"
        },
        "id": "VFgLg5c1Pm0o",
        "outputId": "3e737e32-0d60-42ad-e90d-5dad0487098d"
      },
      "execution_count": 87,
      "outputs": [
        {
          "output_type": "execute_result",
          "data": {
            "text/plain": [
              "tensor([[0.3000],\n",
              "        [0.3140],\n",
              "        [0.3280],\n",
              "        [0.3420],\n",
              "        [0.3560],\n",
              "        [0.3700],\n",
              "        [0.3840],\n",
              "        [0.3980],\n",
              "        [0.4120],\n",
              "        [0.4260],\n",
              "        [0.4400],\n",
              "        [0.4540],\n",
              "        [0.4680],\n",
              "        [0.4820],\n",
              "        [0.4960],\n",
              "        [0.5100],\n",
              "        [0.5240],\n",
              "        [0.5380],\n",
              "        [0.5520],\n",
              "        [0.5660],\n",
              "        [0.5800],\n",
              "        [0.5940],\n",
              "        [0.6080],\n",
              "        [0.6220],\n",
              "        [0.6360],\n",
              "        [0.6500],\n",
              "        [0.6640],\n",
              "        [0.6780],\n",
              "        [0.6920],\n",
              "        [0.7060],\n",
              "        [0.7200],\n",
              "        [0.7340],\n",
              "        [0.7480],\n",
              "        [0.7620],\n",
              "        [0.7760],\n",
              "        [0.7900],\n",
              "        [0.8040],\n",
              "        [0.8180],\n",
              "        [0.8320],\n",
              "        [0.8460],\n",
              "        [0.8600],\n",
              "        [0.8740],\n",
              "        [0.8880],\n",
              "        [0.9020],\n",
              "        [0.9160],\n",
              "        [0.9300],\n",
              "        [0.9440],\n",
              "        [0.9580],\n",
              "        [0.9720],\n",
              "        [0.9860]])"
            ]
          },
          "metadata": {},
          "execution_count": 87
        }
      ]
    },
    {
      "cell_type": "code",
      "source": [
        "from sklearn.model_selection import train_test_split\n",
        "\n",
        "# Assuming you have your data stored in X (features) and y (labels)\n",
        "# X and y should be numpy arrays or pandas DataFrames/Series\n",
        "# Adjust the test_size and random_state according to your needs\n",
        "\n",
        "X_train, X_test, y_train, y_test = train_test_split(X, y, test_size=0.2, random_state=42)\n",
        "\n",
        "# Now you can use X_train, X_test, y_train, and y_test for training and testing your model\n"
      ],
      "metadata": {
        "id": "CQJAoefrPndJ"
      },
      "execution_count": 88,
      "outputs": []
    },
    {
      "cell_type": "code",
      "source": [
        "len(X_train), len(X_test), len(y_train), len(y_test)"
      ],
      "metadata": {
        "colab": {
          "base_uri": "https://localhost:8080/"
        },
        "id": "F0yNBzm9f8LJ",
        "outputId": "ad049f94-a9b6-462a-ff1a-5a92a3478ab9"
      },
      "execution_count": 89,
      "outputs": [
        {
          "output_type": "execute_result",
          "data": {
            "text/plain": [
              "(40, 10, 40, 10)"
            ]
          },
          "metadata": {},
          "execution_count": 89
        }
      ]
    },
    {
      "cell_type": "code",
      "source": [
        "X_train.shape, X_test.shape, y_train.shape, y_test.shape"
      ],
      "metadata": {
        "colab": {
          "base_uri": "https://localhost:8080/"
        },
        "id": "BDWLaQARgLZO",
        "outputId": "0fb5d568-1451-4e4a-bca0-1aac0387ab8b"
      },
      "execution_count": 90,
      "outputs": [
        {
          "output_type": "execute_result",
          "data": {
            "text/plain": [
              "(torch.Size([40, 1]),\n",
              " torch.Size([10, 1]),\n",
              " torch.Size([40, 1]),\n",
              " torch.Size([10, 1]))"
            ]
          },
          "metadata": {},
          "execution_count": 90
        }
      ]
    },
    {
      "cell_type": "code",
      "source": [
        "def plot_predictions(train_data=X_train, train_lables=y_train, test_data=X_test, test_labels= y_test, predictions=None):\n",
        "    plt.scatter(train_data, train_lables, c=\"b\", s=4, label=\"Training_data\")\n",
        "    plt.scatter(test_data, test_labels, c=\"g\", s=4, label=\"Test_data\")\n",
        "    if predictions is not None:\n",
        "        plt.scatter(test_data, predictions, c=\"r\", s=4, label=\"Predictions\")\n",
        "    plt.legend(prop={\"size\":14})\n"
      ],
      "metadata": {
        "id": "v0SzEzROgT9u"
      },
      "execution_count": 91,
      "outputs": []
    },
    {
      "cell_type": "code",
      "source": [
        "plot_predictions()"
      ],
      "metadata": {
        "colab": {
          "base_uri": "https://localhost:8080/",
          "height": 430
        },
        "id": "H5_ZGf54kmof",
        "outputId": "4c6b6000-f623-4c36-d11b-0bc4b414b62b"
      },
      "execution_count": 92,
      "outputs": [
        {
          "output_type": "display_data",
          "data": {
            "text/plain": [
              "<Figure size 640x480 with 1 Axes>"
            ],
            "image/png": "[encoded data removed]"
          },
          "metadata": {}
        }
      ]
    },
    {
      "cell_type": "code",
      "source": [
        "class LinearRegressionModel(nn.Module):\n",
        "    def __init__(self):\n",
        "        super().__init__()\n",
        "        self.weights = nn.Parameter(torch.randn(1, requires_grad=True, dtype=torch.float))\n",
        "        self.bias = nn.Parameter(torch.randn(1, requires_grad=True, dtype=torch.float))\n",
        "    def forward(self, x:torch.Tensor) -> torch.Tensor:\n",
        "            return x*self.weights+ self.bias\n"
      ],
      "metadata": {
        "id": "p6Igrt_Dlkfb"
      },
      "execution_count": 93,
      "outputs": []
    },
    {
      "cell_type": "code",
      "source": [
        "model_0=LinearRegressionModel()"
      ],
      "metadata": {
        "id": "AP0ruCGKt8ML"
      },
      "execution_count": 94,
      "outputs": []
    },
    {
      "cell_type": "code",
      "source": [
        "list(model_0.parameters())"
      ],
      "metadata": {
        "colab": {
          "base_uri": "https://localhost:8080/"
        },
        "id": "ZXX1nz7Ht8zg",
        "outputId": "147c628e-5c34-42c9-dbaf-d9e40ec7ea2d"
      },
      "execution_count": 95,
      "outputs": [
        {
          "output_type": "execute_result",
          "data": {
            "text/plain": [
              "[Parameter containing:\n",
              " tensor([0.2345], requires_grad=True),\n",
              " Parameter containing:\n",
              " tensor([0.2303], requires_grad=True)]"
            ]
          },
          "metadata": {},
          "execution_count": 95
        }
      ]
    },
    {
      "cell_type": "code",
      "source": [
        "model_0.state_dict()"
      ],
      "metadata": {
        "id": "ng_JaYw6uBFp",
        "colab": {
          "base_uri": "https://localhost:8080/"
        },
        "outputId": "fb19d59d-8ffd-4fab-d2a6-19182e511c8a"
      },
      "execution_count": 96,
      "outputs": [
        {
          "output_type": "execute_result",
          "data": {
            "text/plain": [
              "OrderedDict([('weights', tensor([0.2345])), ('bias', tensor([0.2303]))])"
            ]
          },
          "metadata": {},
          "execution_count": 96
        }
      ]
    },
    {
      "cell_type": "code",
      "source": [
        "with torch.inference_mode():\n",
        "    y_pred=model_0(X_test)\n",
        "print(y_pred)"
      ],
      "metadata": {
        "colab": {
          "base_uri": "https://localhost:8080/"
        },
        "id": "RbNToidWgieG",
        "outputId": "3b8813be-b259-44e1-e512-7da4a88eac14"
      },
      "execution_count": 97,
      "outputs": [
        {
          "output_type": "stream",
          "name": "stdout",
          "text": [
            "tensor([[0.2913],\n",
            "        [0.4132],\n",
            "        [0.3710],\n",
            "        [0.4413],\n",
            "        [0.3101],\n",
            "        [0.4554],\n",
            "        [0.3523],\n",
            "        [0.3476],\n",
            "        [0.3804],\n",
            "        [0.3194]])\n"
          ]
        }
      ]
    },
    {
      "cell_type": "code",
      "source": [
        "plot_predictions(predictions=y_pred)"
      ],
      "metadata": {
        "colab": {
          "base_uri": "https://localhost:8080/",
          "height": 430
        },
        "id": "rId_46X1g90d",
        "outputId": "d9007027-ffef-4739-8a08-1103cb69f038"
      },
      "execution_count": 98,
      "outputs": [
        {
          "output_type": "display_data",
          "data": {
            "text/plain": [
              "<Figure size 640x480 with 1 Axes>"
            ],
            "image/png": "[encoded data removed]"
          },
          "metadata": {}
        }
      ]
    },
    {
      "cell_type": "code",
      "source": [
        "list(model_0.parameters())"
      ],
      "metadata": {
        "colab": {
          "base_uri": "https://localhost:8080/"
        },
        "id": "q6JI8NR7hyfB",
        "outputId": "44df3715-2e22-4539-e3b7-ad8258e6ebb6"
      },
      "execution_count": 99,
      "outputs": [
        {
          "output_type": "execute_result",
          "data": {
            "text/plain": [
              "[Parameter containing:\n",
              " tensor([0.2345], requires_grad=True),\n",
              " Parameter containing:\n",
              " tensor([0.2303], requires_grad=True)]"
            ]
          },
          "metadata": {},
          "execution_count": 99
        }
      ]
    },
    {
      "cell_type": "code",
      "source": [
        "loss_fn=nn.L1Loss()\n",
        "optimizer = torch.optim.SGD(model_0.parameters(), lr=0.01, momentum=0.9)"
      ],
      "metadata": {
        "id": "BPnogof_rylp"
      },
      "execution_count": 100,
      "outputs": []
    },
    {
      "cell_type": "code",
      "source": [
        "epoch_count=[]\n",
        "train_loss_l=[]\n",
        "test_loss_l=[]\n",
        "epoch=100\n",
        "for i in range(epoch):\n",
        "    model_0.train() # to get all the require parameter for the require grads\n",
        "    y_pred=model_0(X_train)  # it will call the forword function that is present inside the LinearRegression class\n",
        "    l=loss_fn(y_pred, y_train)\n",
        "    optimizer.zero_grad()\n",
        "    l.backward()\n",
        "\n",
        "    optimizer.step()\n",
        "    epoch_count.append(i)\n",
        "    train_loss_l.append(l)\n",
        "\n",
        "    model_0.eval()\n",
        "    with torch.inference_mode():\n",
        "        y_test_pred=model_0(X_test)\n",
        "        test_loss=loss_fn(y_test_pred, y_test)\n",
        "        test_loss_l.append(test_loss)\n",
        "\n",
        "    if i%10==0:\n",
        "        print(f\"Epoch:{i} | Loss: {l} | Test_Loss: {test_loss}\")"
      ],
      "metadata": {
        "colab": {
          "base_uri": "https://localhost:8080/"
        },
        "id": "XrjaKNV1tJrT",
        "outputId": "cf534211-a846-47cc-bf0f-6505ebccbdeb"
      },
      "execution_count": 101,
      "outputs": [
        {
          "output_type": "stream",
          "name": "stdout",
          "text": [
            "Epoch:0 | Loss: 0.2863747477531433 | Test_Loss: 0.3306659460067749\n",
            "Epoch:10 | Loss: 0.11194662749767303 | Test_Loss: 0.09779345989227295\n",
            "Epoch:20 | Loss: 0.07677311450242996 | Test_Loss: 0.09280350059270859\n",
            "Epoch:30 | Loss: 0.04248202592134476 | Test_Loss: 0.03284553438425064\n",
            "Epoch:40 | Loss: 0.010739482007920742 | Test_Loss: 0.003909650258719921\n",
            "Epoch:50 | Loss: 0.006428520195186138 | Test_Loss: 0.0067178369499742985\n",
            "Epoch:60 | Loss: 0.001999682281166315 | Test_Loss: 0.005262112710624933\n",
            "Epoch:70 | Loss: 0.0003775283694267273 | Test_Loss: 0.0017582416767254472\n",
            "Epoch:80 | Loss: 0.0051939720287919044 | Test_Loss: 0.007170570082962513\n",
            "Epoch:90 | Loss: 0.005296128336340189 | Test_Loss: 0.008954268880188465\n"
          ]
        }
      ]
    },
    {
      "cell_type": "code",
      "source": [
        "with torch.inference_mode():\n",
        "    y_pred_new=model_0(X_test)"
      ],
      "metadata": {
        "id": "DRAramwKIabM"
      },
      "execution_count": 102,
      "outputs": []
    },
    {
      "cell_type": "code",
      "source": [
        "plot_predictions(predictions=y_pred_new)"
      ],
      "metadata": {
        "colab": {
          "base_uri": "https://localhost:8080/",
          "height": 430
        },
        "id": "19QG_f7f4iMn",
        "outputId": "9bc982f2-d9c3-4d10-908f-bde9992cc9a6"
      },
      "execution_count": 103,
      "outputs": [
        {
          "output_type": "display_data",
          "data": {
            "text/plain": [
              "<Figure size 640x480 with 1 Axes>"
            ],
            "image/png": "[encoded data removed]"
          },
          "metadata": {}
        }
      ]
    },
    {
      "cell_type": "code",
      "source": [
        "detached_tensor_list = [tensor.detach() for tensor in train_loss_l]"
      ],
      "metadata": {
        "id": "tyedZBrcE7Gg"
      },
      "execution_count": 104,
      "outputs": []
    },
    {
      "cell_type": "code",
      "source": [
        "plt.plot(epoch_count, detached_tensor_list, label=\"Train_loss\")\n",
        "plt.plot(epoch_count, test_loss_l, label=\"Test_loss\")\n",
        "plt.title(\"Training and test loss\")\n",
        "plt.ylabel(\"Loss\")\n",
        "plt.xlabel(\"Epoch\")\n",
        "plt.legend()"
      ],
      "metadata": {
        "colab": {
          "base_uri": "https://localhost:8080/",
          "height": 490
        },
        "id": "EABOOVf54ouv",
        "outputId": "192d6338-b6b7-44d1-9da4-497498d609b9"
      },
      "execution_count": 105,
      "outputs": [
        {
          "output_type": "execute_result",
          "data": {
            "text/plain": [
              "<matplotlib.legend.Legend at 0x7a25b93250f0>"
            ]
          },
          "metadata": {},
          "execution_count": 105
        },
        {
          "output_type": "display_data",
          "data": {
            "text/plain": [
              "<Figure size 640x480 with 1 Axes>"
            ],
            "image/png": "[encoded data removed]"
          },
          "metadata": {}
        }
      ]
    },
    {
      "cell_type": "code",
      "source": [
        "device=\"cuda\" if torch.cuda.is_available() else \"cpu\"\n",
        "print(f\"using device: {device}\")"
      ],
      "metadata": {
        "colab": {
          "base_uri": "https://localhost:8080/"
        },
        "id": "jZP8JVqtXYni",
        "outputId": "4a8959f0-ba06-440d-c4f9-0d7e6506abc0"
      },
      "execution_count": 106,
      "outputs": [
        {
          "output_type": "stream",
          "name": "stdout",
          "text": [
            "using device: cpu\n"
          ]
        }
      ]
    },
    {
      "cell_type": "code",
      "source": [
        "#Model v2\n",
        "class Linearmodelv2(nn.Module):\n",
        "    def __init__(self):\n",
        "        super().__init__()\n",
        "        self.l1=nn.Linear(in_features=1, out_features=1, device=device)\n",
        "    def forward(self, x:torch.Tensor)-> torch.Tensor:\n",
        "        return self.l1(x)\n"
      ],
      "metadata": {
        "id": "TpgbxL8QEEas"
      },
      "execution_count": 107,
      "outputs": []
    },
    {
      "cell_type": "code",
      "source": [
        "torch.manual_seed(42)\n",
        "model1=Linearmodelv2()"
      ],
      "metadata": {
        "id": "uDSQzaMrELzO"
      },
      "execution_count": 108,
      "outputs": []
    },
    {
      "cell_type": "code",
      "source": [
        "model1.state_dict()"
      ],
      "metadata": {
        "colab": {
          "base_uri": "https://localhost:8080/"
        },
        "id": "qPDl7XJQVvcR",
        "outputId": "9409c724-751b-48e7-efea-66d2c7a74ea2"
      },
      "execution_count": 109,
      "outputs": [
        {
          "output_type": "execute_result",
          "data": {
            "text/plain": [
              "OrderedDict([('l1.weight', tensor([[0.7645]])), ('l1.bias', tensor([0.8300]))])"
            ]
          },
          "metadata": {},
          "execution_count": 109
        }
      ]
    },
    {
      "cell_type": "code",
      "source": [
        "model1.state_dict()"
      ],
      "metadata": {
        "colab": {
          "base_uri": "https://localhost:8080/"
        },
        "id": "dI4rjRR7TvDX",
        "outputId": "cbdb3a5d-fe95-47fb-a2e6-7d8ca73aab2d"
      },
      "execution_count": 110,
      "outputs": [
        {
          "output_type": "execute_result",
          "data": {
            "text/plain": [
              "OrderedDict([('l1.weight', tensor([[0.7645]])), ('l1.bias', tensor([0.8300]))])"
            ]
          },
          "metadata": {},
          "execution_count": 110
        }
      ]
    },
    {
      "cell_type": "code",
      "source": [
        "next(model1.parameters()).device"
      ],
      "metadata": {
        "colab": {
          "base_uri": "https://localhost:8080/"
        },
        "id": "GgyMWyqcUEZr",
        "outputId": "a7b96379-d170-487a-ee78-ca14160be20e"
      },
      "execution_count": 111,
      "outputs": [
        {
          "output_type": "execute_result",
          "data": {
            "text/plain": [
              "device(type='cpu')"
            ]
          },
          "metadata": {},
          "execution_count": 111
        }
      ]
    },
    {
      "cell_type": "code",
      "source": [
        "from torch import optim\n",
        "loss=torch.nn.L1Loss()\n",
        "\n",
        "optimizer = optim.SGD(model1.parameters(), lr=0.01, momentum=0.9)"
      ],
      "metadata": {
        "id": "wqUuLn2fVMSi"
      },
      "execution_count": 112,
      "outputs": []
    },
    {
      "cell_type": "code",
      "source": [
        "#Make our data to the device agnostic\n",
        "X_train=X_train.to(device)\n",
        "X_test=X_test.to(device)\n",
        "y_train=y_train.to(device)\n",
        "y_test=y_test.to(device)\n",
        "#make the model too the device agnostic\n",
        "model1=model1.to(device)"
      ],
      "metadata": {
        "id": "8jGrt52ld8Sr"
      },
      "execution_count": 113,
      "outputs": []
    },
    {
      "cell_type": "code",
      "source": [
        "epoch_count=[]\n",
        "train_loss_count=[]\n",
        "test_loss_count=[]\n",
        "epochs=100\n",
        "for epoch in range(epochs):\n",
        "    model1.train() # Setting in the traing mode\n",
        "    y_pred=model1(X_train) # It will call the forward function\n",
        "    l=loss(y_pred, y_train)\n",
        "    optimizer.zero_grad()\n",
        "    l.backward()\n",
        "    optimizer.step()\n",
        "    model1.eval()\n",
        "    epoch_count.append(epoch)\n",
        "    train_loss_count.append(l)\n",
        "\n",
        "    with torch.inference_mode():\n",
        "        y_p_test=model1(X_test)\n",
        "        l_t=loss(y_p_test, y_test)\n",
        "        test_loss_count.append(l_t)\n",
        "    if epoch%10==0:\n",
        "        print(f\"epoch: {epoch} | Train_Loss: {l} | Test_Loss: {l_t}\")"
      ],
      "metadata": {
        "colab": {
          "base_uri": "https://localhost:8080/"
        },
        "id": "TjvPxakoXFdA",
        "outputId": "8a4c4856-47bb-4425-a471-161b7450ff87"
      },
      "execution_count": 114,
      "outputs": [
        {
          "output_type": "stream",
          "name": "stdout",
          "text": [
            "epoch: 0 | Train_Loss: 0.5600506067276001 | Test_Loss: 0.5552194714546204\n",
            "epoch: 10 | Train_Loss: 0.05733057111501694 | Test_Loss: 0.04575348272919655\n",
            "epoch: 20 | Train_Loss: 0.09788976609706879 | Test_Loss: 0.0687037780880928\n",
            "epoch: 30 | Train_Loss: 0.027207940816879272 | Test_Loss: 0.04520300030708313\n",
            "epoch: 40 | Train_Loss: 0.03954756632447243 | Test_Loss: 0.019374191761016846\n",
            "epoch: 50 | Train_Loss: 0.005108425859361887 | Test_Loss: 0.022245701402425766\n",
            "epoch: 60 | Train_Loss: 0.015561523847281933 | Test_Loss: 0.0038316785357892513\n",
            "epoch: 70 | Train_Loss: 0.009455020539462566 | Test_Loss: 0.009560326114296913\n",
            "epoch: 80 | Train_Loss: 0.011349978856742382 | Test_Loss: 0.017295777797698975\n",
            "epoch: 90 | Train_Loss: 0.015662094578146935 | Test_Loss: 0.008295184001326561\n"
          ]
        }
      ]
    },
    {
      "cell_type": "code",
      "source": [
        "detached_tensor_list = [tensor.detach() for tensor in train_loss_count]\n"
      ],
      "metadata": {
        "id": "iPI38ltTcaOy"
      },
      "execution_count": 115,
      "outputs": []
    },
    {
      "cell_type": "code",
      "source": [
        "detached_tensor_list = [tensor.cpu() for tensor in detached_tensor_list]"
      ],
      "metadata": {
        "id": "yDEGZAaS6DSD"
      },
      "execution_count": 116,
      "outputs": []
    },
    {
      "cell_type": "code",
      "source": [
        "detached_tensor_list_test = [tensor.cpu() for tensor in test_loss_count]"
      ],
      "metadata": {
        "id": "a1nNl3Fs6cva"
      },
      "execution_count": 117,
      "outputs": []
    },
    {
      "cell_type": "code",
      "source": [
        "plt.plot(epoch_count, detached_tensor_list, label=\"Train_loss\")\n",
        "plt.plot(epoch_count, detached_tensor_list_test, label=\"Test_loss\")\n",
        "plt.title(\"Training and test loss\")\n",
        "plt.ylabel(\"Loss\")\n",
        "plt.xlabel(\"Epoch\")\n",
        "plt.legend()"
      ],
      "metadata": {
        "colab": {
          "base_uri": "https://localhost:8080/",
          "height": 490
        },
        "id": "u1fI8xXMaecT",
        "outputId": "92b8a6aa-1b06-4b8c-f01b-4c1b5d91a8bd"
      },
      "execution_count": 118,
      "outputs": [
        {
          "output_type": "execute_result",
          "data": {
            "text/plain": [
              "<matplotlib.legend.Legend at 0x7a25b93750c0>"
            ]
          },
          "metadata": {},
          "execution_count": 118
        },
        {
          "output_type": "display_data",
          "data": {
            "text/plain": [
              "<Figure size 640x480 with 1 Axes>"
            ],
            "image/png": "[encoded data removed]"
          },
          "metadata": {}
        }
      ]
    },
    {
      "cell_type": "code",
      "source": [
        "model1.state_dict()"
      ],
      "metadata": {
        "colab": {
          "base_uri": "https://localhost:8080/"
        },
        "id": "L5-6R5o3cVde",
        "outputId": "0218fa14-de47-4d26-c043-a1835ecc4580"
      },
      "execution_count": 119,
      "outputs": [
        {
          "output_type": "execute_result",
          "data": {
            "text/plain": [
              "OrderedDict([('l1.weight', tensor([[0.7035]])), ('l1.bias', tensor([0.3067]))])"
            ]
          },
          "metadata": {},
          "execution_count": 119
        }
      ]
    },
    {
      "cell_type": "markdown",
      "source": [
        "### Saving and Loading the model"
      ],
      "metadata": {
        "id": "aE_x8tZ74yYu"
      }
    },
    {
      "cell_type": "code",
      "source": [
        "from pathlib import Path\n",
        "MODEL_PATH=Path(\"models\")\n",
        "MODEL_PATH.mkdir(parents=True, exist_ok=True)\n",
        "\n",
        "MODEL_NAME=\"Model1.pth\"\n",
        "MODEL_SAVE_PATH= MODEL_PATH / MODEL_NAME\n",
        "print(f\"Saving model to:{MODEL_SAVE_PATH}\")\n",
        "\n",
        "torch.save(obj= model1.state_dict() , f=MODEL_SAVE_PATH)"
      ],
      "metadata": {
        "colab": {
          "base_uri": "https://localhost:8080/"
        },
        "id": "hsAyGZ_Ne7g_",
        "outputId": "4cb41907-2238-417c-dcd6-9bca2ba2aaa3"
      },
      "execution_count": 120,
      "outputs": [
        {
          "output_type": "stream",
          "name": "stdout",
          "text": [
            "Saving model to:models/Model1.pth\n"
          ]
        }
      ]
    },
    {
      "cell_type": "code",
      "source": [
        "#Load the model"
      ],
      "metadata": {
        "id": "TWHJ5QWW5u28"
      },
      "execution_count": 121,
      "outputs": []
    },
    {
      "cell_type": "code",
      "source": [
        "#Create instance of the model\n",
        "Loaded_model_1=Linearmodelv2()\n",
        "Loaded_model_1.load_state_dict(torch.load(MODEL_SAVE_PATH))"
      ],
      "metadata": {
        "colab": {
          "base_uri": "https://localhost:8080/"
        },
        "id": "cHVTbp7kNI3P",
        "outputId": "82ee63f4-f262-4bfd-d0c9-5da23f53f998"
      },
      "execution_count": 122,
      "outputs": [
        {
          "output_type": "execute_result",
          "data": {
            "text/plain": [
              "<All keys matched successfully>"
            ]
          },
          "metadata": {},
          "execution_count": 122
        }
      ]
    },
    {
      "cell_type": "code",
      "source": [
        "next(Loaded_model_1.parameters()).device"
      ],
      "metadata": {
        "colab": {
          "base_uri": "https://localhost:8080/"
        },
        "id": "UMEcyp-INNsA",
        "outputId": "c23b0f0a-f02f-4d3f-e515-388141a64579"
      },
      "execution_count": 123,
      "outputs": [
        {
          "output_type": "execute_result",
          "data": {
            "text/plain": [
              "device(type='cpu')"
            ]
          },
          "metadata": {},
          "execution_count": 123
        }
      ]
    },
    {
      "cell_type": "code",
      "source": [
        "Loaded_model_1.to(device)"
      ],
      "metadata": {
        "colab": {
          "base_uri": "https://localhost:8080/"
        },
        "id": "cu-H7MgqN1Ki",
        "outputId": "c5e3b00b-7475-44c6-bb74-b4f955debe37"
      },
      "execution_count": 124,
      "outputs": [
        {
          "output_type": "execute_result",
          "data": {
            "text/plain": [
              "Linearmodelv2(\n",
              "  (l1): Linear(in_features=1, out_features=1, bias=True)\n",
              ")"
            ]
          },
          "metadata": {},
          "execution_count": 124
        }
      ]
    },
    {
      "cell_type": "code",
      "source": [
        "Loaded_model_1.state_dict()"
      ],
      "metadata": {
        "colab": {
          "base_uri": "https://localhost:8080/"
        },
        "id": "fQ1Tdjh9N7RL",
        "outputId": "a2217eb0-cb69-4c07-b890-59d8edce1125"
      },
      "execution_count": 126,
      "outputs": [
        {
          "output_type": "execute_result",
          "data": {
            "text/plain": [
              "OrderedDict([('l1.weight', tensor([[0.7035]])), ('l1.bias', tensor([0.3067]))])"
            ]
          },
          "metadata": {},
          "execution_count": 126
        }
      ]
    },
    {
      "cell_type": "code",
      "source": [
        "Loaded_model_1.eval()\n",
        "with torch.inference_mode():\n",
        "    y_loaded_pred=Loaded_model_1(X_test)\n",
        "y_p_test==y_loaded_pred"
      ],
      "metadata": {
        "colab": {
          "base_uri": "https://localhost:8080/"
        },
        "id": "Pc1iHACVOHd1",
        "outputId": "7a6bafd1-10bf-4d07-a49d-c79755665fb2"
      },
      "execution_count": 128,
      "outputs": [
        {
          "output_type": "execute_result",
          "data": {
            "text/plain": [
              "tensor([[True],\n",
              "        [True],\n",
              "        [True],\n",
              "        [True],\n",
              "        [True],\n",
              "        [True],\n",
              "        [True],\n",
              "        [True],\n",
              "        [True],\n",
              "        [True]])"
            ]
          },
          "metadata": {},
          "execution_count": 128
        }
      ]
    },
    {
      "cell_type": "code",
      "source": [],
      "metadata": {
        "id": "Wz_p0_KLPSEy"
      },
      "execution_count": null,
      "outputs": []
    }
  ]
}