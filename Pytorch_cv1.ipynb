{
  "cells": [
    {
      "cell_type": "code",
      "execution_count": 1,
      "metadata": {
        "id": "If1xCVqPDC4x"
      },
      "outputs": [],
      "source": [
        "import torch\n",
        "from torch import nn\n",
        "import torchvision\n",
        "from torchvision import datasets\n",
        "from torchvision import transforms\n",
        "from torchvision.transforms import ToTensor\n",
        "import matplotlib.pyplot as plt"
      ]
    },
    {
      "cell_type": "code",
      "source": [
        "device=\"cpu\"\n",
        "ANS=[]"
      ],
      "metadata": {
        "id": "_fr2Kf-cyprT"
      },
      "execution_count": 2,
      "outputs": []
    },
    {
      "cell_type": "code",
      "execution_count": 3,
      "metadata": {
        "id": "uhXOTWBdDYuc",
        "colab": {
          "base_uri": "https://localhost:8080/"
        },
        "outputId": "ef476258-3457-42b3-aa0f-fe0966607dc3"
      },
      "outputs": [
        {
          "output_type": "stream",
          "name": "stdout",
          "text": [
            "Downloading http://fashion-mnist.s3-website.eu-central-1.amazonaws.com/train-images-idx3-ubyte.gz\n",
            "Downloading http://fashion-mnist.s3-website.eu-central-1.amazonaws.com/train-images-idx3-ubyte.gz to data/FashionMNIST/raw/train-images-idx3-ubyte.gz\n"
          ]
        },
        {
          "output_type": "stream",
          "name": "stderr",
          "text": [
            "100%|██████████| 26421880/26421880 [00:01<00:00, 15075281.87it/s]\n"
          ]
        },
        {
          "output_type": "stream",
          "name": "stdout",
          "text": [
            "Extracting data/FashionMNIST/raw/train-images-idx3-ubyte.gz to data/FashionMNIST/raw\n",
            "\n",
            "Downloading http://fashion-mnist.s3-website.eu-central-1.amazonaws.com/train-labels-idx1-ubyte.gz\n",
            "Downloading http://fashion-mnist.s3-website.eu-central-1.amazonaws.com/train-labels-idx1-ubyte.gz to data/FashionMNIST/raw/train-labels-idx1-ubyte.gz\n"
          ]
        },
        {
          "output_type": "stream",
          "name": "stderr",
          "text": [
            "100%|██████████| 29515/29515 [00:00<00:00, 273004.88it/s]\n"
          ]
        },
        {
          "output_type": "stream",
          "name": "stdout",
          "text": [
            "Extracting data/FashionMNIST/raw/train-labels-idx1-ubyte.gz to data/FashionMNIST/raw\n",
            "\n",
            "Downloading http://fashion-mnist.s3-website.eu-central-1.amazonaws.com/t10k-images-idx3-ubyte.gz\n",
            "Downloading http://fashion-mnist.s3-website.eu-central-1.amazonaws.com/t10k-images-idx3-ubyte.gz to data/FashionMNIST/raw/t10k-images-idx3-ubyte.gz\n"
          ]
        },
        {
          "output_type": "stream",
          "name": "stderr",
          "text": [
            "100%|██████████| 4422102/4422102 [00:00<00:00, 5039956.62it/s]\n"
          ]
        },
        {
          "output_type": "stream",
          "name": "stdout",
          "text": [
            "Extracting data/FashionMNIST/raw/t10k-images-idx3-ubyte.gz to data/FashionMNIST/raw\n",
            "\n",
            "Downloading http://fashion-mnist.s3-website.eu-central-1.amazonaws.com/t10k-labels-idx1-ubyte.gz\n",
            "Downloading http://fashion-mnist.s3-website.eu-central-1.amazonaws.com/t10k-labels-idx1-ubyte.gz to data/FashionMNIST/raw/t10k-labels-idx1-ubyte.gz\n"
          ]
        },
        {
          "output_type": "stream",
          "name": "stderr",
          "text": [
            "100%|██████████| 5148/5148 [00:00<00:00, 8359379.40it/s]"
          ]
        },
        {
          "output_type": "stream",
          "name": "stdout",
          "text": [
            "Extracting data/FashionMNIST/raw/t10k-labels-idx1-ubyte.gz to data/FashionMNIST/raw\n",
            "\n"
          ]
        },
        {
          "output_type": "stream",
          "name": "stderr",
          "text": [
            "\n"
          ]
        }
      ],
      "source": [
        "#Training data\n",
        "train_data = datasets.FashionMNIST(\n",
        "    root=\"data\",\n",
        "    train=True,\n",
        "    download=True,\n",
        "    transform=ToTensor()\n",
        ")\n",
        "#Testing data\n",
        "test_data = datasets.FashionMNIST(\n",
        "    root=\"data\",\n",
        "    train=False,\n",
        "    download=True,\n",
        "    transform=ToTensor()\n",
        ")"
      ]
    },
    {
      "cell_type": "code",
      "execution_count": 4,
      "metadata": {
        "colab": {
          "base_uri": "https://localhost:8080/"
        },
        "id": "083aiuX8D-1U",
        "outputId": "aba20b3b-16e1-4bf7-ac7d-4ba8986b4e3b"
      },
      "outputs": [
        {
          "output_type": "execute_result",
          "data": {
            "text/plain": [
              "(60000, 10000)"
            ]
          },
          "metadata": {},
          "execution_count": 4
        }
      ],
      "source": [
        "len(train_data), len(test_data)"
      ]
    },
    {
      "cell_type": "code",
      "execution_count": 5,
      "metadata": {
        "id": "Ly4IufZCHd6j"
      },
      "outputs": [],
      "source": [
        "class_name=train_data.classes\n",
        "class_to_idx=train_data.class_to_idx"
      ]
    },
    {
      "cell_type": "code",
      "execution_count": 6,
      "metadata": {
        "id": "kLRZKvU_EpeO"
      },
      "outputs": [],
      "source": [
        "image, label=train_data[0]"
      ]
    },
    {
      "cell_type": "code",
      "execution_count": 7,
      "metadata": {
        "colab": {
          "base_uri": "https://localhost:8080/"
        },
        "id": "Jx_CZJ3hE9Pj",
        "outputId": "ae199df7-5662-4876-f4c2-7360dc23126a"
      },
      "outputs": [
        {
          "output_type": "execute_result",
          "data": {
            "text/plain": [
              "(torch.Size([1, 28, 28]), 9)"
            ]
          },
          "metadata": {},
          "execution_count": 7
        }
      ],
      "source": [
        "image.shape, label"
      ]
    },
    {
      "cell_type": "code",
      "execution_count": 8,
      "metadata": {
        "colab": {
          "base_uri": "https://localhost:8080/",
          "height": 35
        },
        "id": "iWxBAyqJFlnB",
        "outputId": "6b51f0bd-e2a6-43fe-9f0c-978ee831d2fe"
      },
      "outputs": [
        {
          "output_type": "execute_result",
          "data": {
            "text/plain": [
              "'Ankle boot'"
            ],
            "application/vnd.google.colaboratory.intrinsic+json": {
              "type": "string"
            }
          },
          "metadata": {},
          "execution_count": 8
        }
      ],
      "source": [
        "class_name[label]"
      ]
    },
    {
      "cell_type": "code",
      "execution_count": 9,
      "metadata": {
        "id": "XL98lq3HILKv"
      },
      "outputs": [],
      "source": [
        "#visualize our data"
      ]
    },
    {
      "cell_type": "code",
      "execution_count": 10,
      "metadata": {
        "colab": {
          "base_uri": "https://localhost:8080/",
          "height": 428
        },
        "id": "6rg9jXDnGt7V",
        "outputId": "96fc07f1-90cb-436f-99be-77bdde8b3c42"
      },
      "outputs": [
        {
          "output_type": "display_data",
          "data": {
            "text/plain": [
              "<Figure size 640x480 with 1 Axes>"
            ],
            "image/png": "[encoded data removed]"
          },
          "metadata": {}
        }
      ],
      "source": [
        "image, label=train_data[0]\n",
        "plt.imshow(image.permute(1,2,0))\n",
        "plt.title(class_name[label])\n",
        "plt.axis(False)\n",
        "plt.show()"
      ]
    },
    {
      "cell_type": "code",
      "execution_count": 11,
      "metadata": {
        "colab": {
          "base_uri": "https://localhost:8080/",
          "height": 752
        },
        "id": "ZOdyu7aIG1Lk",
        "outputId": "ee59490f-d59f-4829-f818-d86aa5a8f7f3"
      },
      "outputs": [
        {
          "output_type": "display_data",
          "data": {
            "text/plain": [
              "<Figure size 900x900 with 16 Axes>"
            ],
            "image/png": "[encoded data removed]"
          },
          "metadata": {}
        }
      ],
      "source": [
        "torch.manual_seed(42)\n",
        "torch.cuda.manual_seed(42)\n",
        "fig=plt.figure(figsize=(9,9))\n",
        "row, col=4, 4\n",
        "for i in range(1, row*col+1):\n",
        "    random_number = torch.randint(0, len(train_data), (1,)).item()\n",
        "    img, lab=train_data[random_number]\n",
        "    fig.add_subplot(row, col, i)\n",
        "    plt.imshow(img.squeeze(),cmap=\"gray\")\n",
        "    plt.title(class_name[lab])\n",
        "    plt.axis(False)"
      ]
    },
    {
      "cell_type": "code",
      "execution_count": 12,
      "metadata": {
        "id": "xIiUf9VXqii_"
      },
      "outputs": [],
      "source": [
        "BATCH_SIZE=32\n",
        "from torch.utils.data import DataLoader\n",
        "train_dataloader=DataLoader(dataset=train_data, batch_size=BATCH_SIZE, shuffle=True)\n",
        "test_dataloader= DataLoader(dataset= test_data, batch_size=BATCH_SIZE)\n"
      ]
    },
    {
      "cell_type": "code",
      "execution_count": 13,
      "metadata": {
        "id": "IFDm8YyOq4lp",
        "colab": {
          "base_uri": "https://localhost:8080/"
        },
        "outputId": "5ef6d7c6-4c80-47c5-d7e0-bff31b3c22e6"
      },
      "outputs": [
        {
          "output_type": "stream",
          "name": "stdout",
          "text": [
            "Shape of the traing feature and lable\n",
            "torch.Size([32, 1, 28, 28]) torch.Size([32])\n",
            "Shape of the testing feature and lable\n",
            "torch.Size([32, 1, 28, 28]) torch.Size([32])\n"
          ]
        }
      ],
      "source": [
        "train_feature_batch, train_label_batch=next(iter(train_dataloader))\n",
        "print(\"Shape of the traing feature and lable\")\n",
        "print(train_feature_batch.shape, train_label_batch.shape)\n",
        "test_feature_batch, test_label_batch=next(iter(test_dataloader))\n",
        "print(\"Shape of the testing feature and lable\")\n",
        "print(test_feature_batch.shape,test_label_batch.shape)"
      ]
    },
    {
      "cell_type": "code",
      "source": [
        "print(f\"Number of training data: {len(train_data)}\")\n",
        "print(f\"Number of testing data: {len(test_data)}\")\n",
        "print(f\"Number of batch in traing: {len(train_data)/train_feature_batch.shape[0]}\")\n",
        "print(f\"Number of batch in testing: {len(test_data)/test_feature_batch.shape[0]}\")\n",
        "print(f\"Length of train_dataloader:{len(train_dataloader)}\")\n",
        "print(f\"Length of test_dataloader:{len(test_dataloader)}\")"
      ],
      "metadata": {
        "colab": {
          "base_uri": "https://localhost:8080/"
        },
        "id": "HNVtWIr5QT9a",
        "outputId": "b79de470-cf7f-4550-9dd8-7982980a20f1"
      },
      "execution_count": 14,
      "outputs": [
        {
          "output_type": "stream",
          "name": "stdout",
          "text": [
            "Number of training data: 60000\n",
            "Number of testing data: 10000\n",
            "Number of batch in traing: 1875.0\n",
            "Number of batch in testing: 312.5\n",
            "Length of train_dataloader:1875\n",
            "Length of test_dataloader:313\n"
          ]
        }
      ]
    },
    {
      "cell_type": "code",
      "source": [
        "random_number = torch.randint(0, len(train_feature_batch), (1,)).item()\n",
        "img, label=train_feature_batch[random_number], train_label_batch[random_number]\n",
        "plt.imshow(img.squeeze(), cmap=\"gray\")\n",
        "plt.title(class_name[label])\n",
        "plt.axis(False)\n",
        "print(f\"Image_Size: {img.shape}\")\n",
        "print(f\"Label: {label}, label size: {label.shape}\")"
      ],
      "metadata": {
        "colab": {
          "base_uri": "https://localhost:8080/",
          "height": 465
        },
        "id": "mYgIZzONhmoi",
        "outputId": "7b0a1dd2-d566-4904-dba0-3ea44abe162a"
      },
      "execution_count": 15,
      "outputs": [
        {
          "output_type": "stream",
          "name": "stdout",
          "text": [
            "Image_Size: torch.Size([1, 28, 28])\n",
            "Label: 1, label size: torch.Size([])\n"
          ]
        },
        {
          "output_type": "display_data",
          "data": {
            "text/plain": [
              "<Figure size 640x480 with 1 Axes>"
            ],
            "image/png": "[encoded data removed]"
          },
          "metadata": {}
        }
      ]
    },
    {
      "cell_type": "code",
      "source": [
        "input = torch.randn(32, 1, 5, 5)\n",
        "print(f\"Input: {input.shape}\")\n",
        "m = nn.Flatten(0, 3)\n",
        "output = m(input)\n",
        "print(f\"OutputSize: {output.size()}\")\n",
        "torch.Size([32, 25])\n",
        "m = nn.Flatten(0, 2)\n",
        "output = m(input)\n",
        "output.size()"
      ],
      "metadata": {
        "colab": {
          "base_uri": "https://localhost:8080/"
        },
        "id": "Vdc4vHmkjv-h",
        "outputId": "9a58c744-fa96-4c83-c09c-bdce7808084d"
      },
      "execution_count": 16,
      "outputs": [
        {
          "output_type": "stream",
          "name": "stdout",
          "text": [
            "Input: torch.Size([32, 1, 5, 5])\n",
            "OutputSize: torch.Size([800])\n"
          ]
        },
        {
          "output_type": "execute_result",
          "data": {
            "text/plain": [
              "torch.Size([160, 5])"
            ]
          },
          "metadata": {},
          "execution_count": 16
        }
      ]
    },
    {
      "cell_type": "code",
      "source": [
        "a = [[1, 2, 3], [4, 5, 6]]\n",
        "t = torch.tensor(a)\n",
        "m = nn.Flatten(0,-1)\n",
        "# f_a=m(a)\n",
        "f_t=m(t)\n",
        "print(f\"t: {t}\")\n",
        "print(f\"t.shape: {t.shape}\")\n",
        "# print(f\"f_a: {f_a}\")\n",
        "# print(f\"f_a>shape: {f_a.shape}\")\n",
        "print(f\"f_t: {f_t}\")\n",
        "print(f\"f_t>shape: {f_t.shape}\")"
      ],
      "metadata": {
        "colab": {
          "base_uri": "https://localhost:8080/"
        },
        "id": "Li2fWMgUnDxA",
        "outputId": "2b823f46-37df-4722-8af1-10a35ff4d3d3"
      },
      "execution_count": 17,
      "outputs": [
        {
          "output_type": "stream",
          "name": "stdout",
          "text": [
            "t: tensor([[1, 2, 3],\n",
            "        [4, 5, 6]])\n",
            "t.shape: torch.Size([2, 3])\n",
            "f_t: tensor([1, 2, 3, 4, 5, 6])\n",
            "f_t>shape: torch.Size([6])\n"
          ]
        }
      ]
    },
    {
      "cell_type": "code",
      "source": [
        "#ModelV0 FOr the Fashion MNIST\n",
        "class FashionMNISTv0(nn.Module):\n",
        "    def __init__(self, input_shape:int, hidden_units: int, output_shape: int):\n",
        "        super().__init__()\n",
        "        self.f1=nn.Flatten()\n",
        "        self.l1=nn.Linear(in_features=input_shape, out_features=hidden_units)\n",
        "        self.l2=nn.Linear(in_features=hidden_units, out_features=output_shape)\n",
        "    def forward(self, x):\n",
        "        return self.l2(self.l1(self.f1(x)))\n",
        "\n",
        "\n",
        "\n"
      ],
      "metadata": {
        "id": "-HA4y3mFqbU2"
      },
      "execution_count": 18,
      "outputs": []
    },
    {
      "cell_type": "code",
      "source": [
        "model0=FashionMNISTv0(input_shape=28*28, hidden_units=10, output_shape=len(class_name))\n",
        "model0"
      ],
      "metadata": {
        "colab": {
          "base_uri": "https://localhost:8080/"
        },
        "id": "z1c67OaKyECn",
        "outputId": "5a596c29-e1dc-4126-fe45-7398acd5bc66"
      },
      "execution_count": 19,
      "outputs": [
        {
          "output_type": "execute_result",
          "data": {
            "text/plain": [
              "FashionMNISTv0(\n",
              "  (f1): Flatten(start_dim=1, end_dim=-1)\n",
              "  (l1): Linear(in_features=784, out_features=10, bias=True)\n",
              "  (l2): Linear(in_features=10, out_features=10, bias=True)\n",
              ")"
            ]
          },
          "metadata": {},
          "execution_count": 19
        }
      ]
    },
    {
      "cell_type": "code",
      "source": [
        "dummy_torch=torch.rand([1,1,28,28])\n",
        "model0(dummy_torch).shape"
      ],
      "metadata": {
        "colab": {
          "base_uri": "https://localhost:8080/"
        },
        "id": "V_Bm5FlIyYHW",
        "outputId": "80984934-7e63-4cb5-b791-0b933ff2a7cb"
      },
      "execution_count": 20,
      "outputs": [
        {
          "output_type": "execute_result",
          "data": {
            "text/plain": [
              "torch.Size([1, 10])"
            ]
          },
          "metadata": {},
          "execution_count": 20
        }
      ]
    },
    {
      "cell_type": "code",
      "source": [
        "import requests\n",
        "from pathlib import Path\n",
        "if Path(\"helper_function.py\").is_file():\n",
        "    print(\"Aleady in the file\")\n",
        "else:\n",
        "    print(\"Dowloading Helper function\")\n",
        "    request=requests.get(\"https://raw.githubusercontent.com/mrdbourke/pytorch-deep-learning/main/helper_functions.py\")\n",
        "    with open(\"helper_function.py\",\"wb\") as f:\n",
        "        f.write(request.content)"
      ],
      "metadata": {
        "colab": {
          "base_uri": "https://localhost:8080/"
        },
        "id": "ZIKJEBZuyy7r",
        "outputId": "80972315-707b-4492-c1a7-b9486dc2eafe"
      },
      "execution_count": 21,
      "outputs": [
        {
          "output_type": "stream",
          "name": "stdout",
          "text": [
            "Dowloading Helper function\n"
          ]
        }
      ]
    },
    {
      "cell_type": "code",
      "source": [
        "from helper_function import accuracy_fn"
      ],
      "metadata": {
        "id": "NPBV5j98-9PY"
      },
      "execution_count": 22,
      "outputs": []
    },
    {
      "cell_type": "markdown",
      "source": [],
      "metadata": {
        "id": "kxxlXSi0ECRI"
      }
    },
    {
      "cell_type": "code",
      "source": [
        "#Loss Function and optimizer\n",
        "Loss= nn.CrossEntropyLoss()\n",
        "optimizer= torch.optim.Adam(params=model0.parameters(), lr=0.01)"
      ],
      "metadata": {
        "id": "-vjkNcO_AR9z"
      },
      "execution_count": 23,
      "outputs": []
    },
    {
      "cell_type": "code",
      "source": [
        "# Function to calculate the time to run the model\n",
        "import time\n",
        "\n",
        "def calculate_model_run_time(model, input_data):\n",
        "    start_time = time.time()\n",
        "    #_ = model(input_data)  # Assuming model is a callable object that takes input_data as input\n",
        "    end_time = time.time()\n",
        "    run_time = end_time - start_time\n",
        "    return run_time"
      ],
      "metadata": {
        "id": "r1EC_4CvB2pG"
      },
      "execution_count": 24,
      "outputs": []
    },
    {
      "cell_type": "code",
      "source": [
        "start_time = time.time()\n",
        "from tqdm import tqdm\n",
        "torch.manual_seed(42)\n",
        "torch.cuda.manual_seed(42)\n",
        "epochs=3\n",
        "for epoch in tqdm(range(epochs)):\n",
        "    print(f\"Epoch: {epoch}\\n.....\")\n",
        "    ##Training\n",
        "    train_loss=0\n",
        "    for batch, (X_train,y_train) in enumerate(train_dataloader):\n",
        "        model0.train()\n",
        "        y_pred=model0(X_train)\n",
        "        loss=Loss(y_pred, y_train)\n",
        "        train_loss+=loss\n",
        "        optimizer.zero_grad()\n",
        "        loss.backward()\n",
        "        optimizer.step()\n",
        "        if batch % 400 == 0:\n",
        "            print(f\"Looked at{batch*len(X_train)}/{len(train_data)} sample\")\n",
        "    train_loss/=len(train_dataloader)\n",
        "\n",
        "    ###Testing\n",
        "    test_loss, test_acc=0,0\n",
        "    model0.eval()\n",
        "    with torch.inference_mode():\n",
        "        for (X_test, y_test) in test_dataloader:\n",
        "            y_logit=model0(X_test)\n",
        "            y_pred_test=torch.argmax(y_logit,dim=1)\n",
        "            test_loss+=Loss(y_logit, y_test)\n",
        "            test_acc+=accuracy_fn(y_test, y_pred_test)\n",
        "        test_loss/=len(test_dataloader)\n",
        "        test_acc/=len(test_dataloader)\n",
        "    print(f\"Train_loss: {train_loss} || Test_loss: {test_loss} || Test_acc: {test_acc}\")\n",
        "\n",
        "end_time = time.time()\n",
        "\n",
        "run_time = end_time - start_time\n",
        "print(f\"Total time: {run_time}\")\n",
        "\n",
        "\n"
      ],
      "metadata": {
        "colab": {
          "base_uri": "https://localhost:8080/"
        },
        "id": "dL8JeU-xGPTN",
        "outputId": "d456764f-442b-4673-e4b7-88055b0ebb8e"
      },
      "execution_count": 25,
      "outputs": [
        {
          "output_type": "stream",
          "name": "stderr",
          "text": [
            "\r  0%|          | 0/3 [00:00<?, ?it/s]"
          ]
        },
        {
          "output_type": "stream",
          "name": "stdout",
          "text": [
            "Epoch: 0\n",
            ".....\n",
            "Looked at0/60000 sample\n",
            "Looked at12800/60000 sample\n",
            "Looked at25600/60000 sample\n",
            "Looked at38400/60000 sample\n",
            "Looked at51200/60000 sample\n"
          ]
        },
        {
          "output_type": "stream",
          "name": "stderr",
          "text": [
            "\r 33%|███▎      | 1/3 [00:30<01:00, 30.09s/it]"
          ]
        },
        {
          "output_type": "stream",
          "name": "stdout",
          "text": [
            "Train_loss: 0.5624402761459351 || Test_loss: 0.5092732310295105 || Test_acc: 81.9988019169329\n",
            "Epoch: 1\n",
            ".....\n",
            "Looked at0/60000 sample\n",
            "Looked at12800/60000 sample\n",
            "Looked at25600/60000 sample\n",
            "Looked at38400/60000 sample\n",
            "Looked at51200/60000 sample\n"
          ]
        },
        {
          "output_type": "stream",
          "name": "stderr",
          "text": [
            "\r 67%|██████▋   | 2/3 [00:42<00:19, 19.63s/it]"
          ]
        },
        {
          "output_type": "stream",
          "name": "stdout",
          "text": [
            "Train_loss: 0.5021271705627441 || Test_loss: 0.4869379997253418 || Test_acc: 82.98722044728434\n",
            "Epoch: 2\n",
            ".....\n",
            "Looked at0/60000 sample\n",
            "Looked at12800/60000 sample\n",
            "Looked at25600/60000 sample\n",
            "Looked at38400/60000 sample\n",
            "Looked at51200/60000 sample\n"
          ]
        },
        {
          "output_type": "stream",
          "name": "stderr",
          "text": [
            "100%|██████████| 3/3 [00:54<00:00, 18.17s/it]"
          ]
        },
        {
          "output_type": "stream",
          "name": "stdout",
          "text": [
            "Train_loss: 0.480909526348114 || Test_loss: 0.5648816227912903 || Test_acc: 81.01038338658147\n",
            "Total time: 54.51326537132263\n"
          ]
        },
        {
          "output_type": "stream",
          "name": "stderr",
          "text": [
            "\n"
          ]
        }
      ]
    },
    {
      "cell_type": "code",
      "source": [
        "def eval_model(model: torch.nn.Module,\n",
        "               data_loader:torch.utils.data.DataLoader,\n",
        "               loss_fn: torch.nn.Module,\n",
        "               accuracy_fn,\n",
        "               device):\n",
        "    loss,acc=0,0\n",
        "    model.eval()\n",
        "    with torch.inference_mode():\n",
        "        for X_test, y_test in data_loader:\n",
        "            X_test=X_test.to(device)\n",
        "            y_test=y_test.to(device)\n",
        "            y_logit=model(X_test)\n",
        "            y_pred= y_logit.argmax(dim=1)\n",
        "            loss+=loss_fn(y_logit, y_test)\n",
        "            acc+=accuracy_fn(y_test, y_pred)\n",
        "        loss/=len(data_loader)\n",
        "        acc/=len(data_loader)\n",
        "    return {\n",
        "        \"model_name\": model.__class__.__name__,\n",
        "        \"model_loss\": loss.item(),\n",
        "        \"model_acc\": acc\n",
        "    }\n"
      ],
      "metadata": {
        "id": "zLESid9UZ_Xt"
      },
      "execution_count": 26,
      "outputs": []
    },
    {
      "cell_type": "code",
      "source": [
        "device=\"cpu\"\n",
        "test_ans = eval_model(model0, test_dataloader, Loss, accuracy_fn, device)\n",
        "ANS.append(test_ans)"
      ],
      "metadata": {
        "id": "fcEvX-7OaC__"
      },
      "execution_count": 27,
      "outputs": []
    },
    {
      "cell_type": "markdown",
      "source": [
        "## Experiment with Non-Linear layer"
      ],
      "metadata": {
        "id": "1EQiI47h9mpx"
      }
    },
    {
      "cell_type": "code",
      "source": [
        "class FashionMNISTv1(nn.Module):\n",
        "    def __init__(self, input_shape, hidden_units, output_shape):\n",
        "        super().__init__()\n",
        "        self.F=nn.Flatten()\n",
        "        self.L1=nn.Linear(in_features=input_shape, out_features=hidden_units)\n",
        "        self.NL=nn.ReLU()\n",
        "        self.L2=nn.Linear(in_features=hidden_units, out_features=output_shape)\n",
        "    def forward(self, X: torch.Tensor)-> torch.Tensor:\n",
        "        x=self.F(X)\n",
        "        x=self.L1(x)\n",
        "        x=self.NL(x)\n",
        "        x=self.L2(x)\n",
        "        x=self.NL(x)\n",
        "        return x;\n"
      ],
      "metadata": {
        "id": "pjvxt9OObHAk"
      },
      "execution_count": 28,
      "outputs": []
    },
    {
      "cell_type": "code",
      "source": [
        "device= \"cuda\" if torch.cuda.is_available() else \"cpu\"\n",
        "torch.manual_seed(42)\n",
        "torch.cuda.manual_seed(42)\n",
        "model1=FashionMNISTv1(input_shape=28*28, hidden_units=10, output_shape=10).to(device)\n",
        "device"
      ],
      "metadata": {
        "colab": {
          "base_uri": "https://localhost:8080/",
          "height": 35
        },
        "id": "quS6-eO-g8up",
        "outputId": "97faf81a-8446-4e29-ebc0-c56e7c3cf277"
      },
      "execution_count": 29,
      "outputs": [
        {
          "output_type": "execute_result",
          "data": {
            "text/plain": [
              "'cpu'"
            ],
            "application/vnd.google.colaboratory.intrinsic+json": {
              "type": "string"
            }
          },
          "metadata": {},
          "execution_count": 29
        }
      ]
    },
    {
      "cell_type": "markdown",
      "source": [
        "##Loss function and optimizer"
      ],
      "metadata": {
        "id": "WIEr1yiX__st"
      }
    },
    {
      "cell_type": "code",
      "source": [
        "criterion = nn.CrossEntropyLoss()\n",
        "optimizer=torch.optim.Adam(model1.parameters(), lr=0.01)"
      ],
      "metadata": {
        "id": "5cRwh1VyhDoG"
      },
      "execution_count": 30,
      "outputs": []
    },
    {
      "cell_type": "markdown",
      "source": [
        "## Training Loop"
      ],
      "metadata": {
        "id": "wskygG6Uhof7"
      }
    },
    {
      "cell_type": "code",
      "source": [
        "Epochs=3\n",
        "train_dataloader=train_dataloader\n",
        "for epoch in tqdm(range(0,Epochs)):\n",
        "    print(f\"Epoch: {epoch}\\n.....\")\n",
        "    loss=0\n",
        "    for batch, (X_train, y_train) in enumerate(train_dataloader):\n",
        "        X_train=X_train.to(device)\n",
        "        y_train=y_train.to(device)\n",
        "        y_logit=model1(X_train)\n",
        "        y_pred=y_logit.argmax(dim=1)\n",
        "        los=criterion(y_logit, y_train)\n",
        "        loss+=los\n",
        "        optimizer.zero_grad()\n",
        "        los.backward()\n",
        "        optimizer.step()\n",
        "        if batch % 400 == 0:\n",
        "            print(f\"Looked at{batch*len(X_train)}/{len(train_data)} sample\")\n",
        "    train_loss/=len(train_dataloader)\n",
        "    loss/=len(train_dataloader)\n",
        "    model1.eval()\n",
        "    test_loss, test_acc=0,0\n",
        "    with torch.inference_mode():\n",
        "        for X_test, y_test in test_dataloader:\n",
        "            X_test=X_test.to(device)\n",
        "            y_test=y_test.to(device)\n",
        "            y_logit_test=model1(X_test)\n",
        "            y_pred_test=y_logit_test.argmax(dim=1)\n",
        "            test_loss+=criterion(y_logit_test, y_test)\n",
        "            test_acc+=accuracy_fn(y_test, y_pred_test)\n",
        "        test_loss/=len(test_dataloader)\n",
        "        test_acc/=len(test_dataloader)\n",
        "    print(f\"Train_loss: {loss} Test_Loss: {test_loss} Test_acc: {test_acc}\")\n",
        "\n",
        "\n",
        "\n"
      ],
      "metadata": {
        "colab": {
          "base_uri": "https://localhost:8080/"
        },
        "id": "BbW8SOishCOL",
        "outputId": "edbabfcc-c448-411c-d91a-356e3b77ad7c"
      },
      "execution_count": 31,
      "outputs": [
        {
          "output_type": "stream",
          "name": "stderr",
          "text": [
            "\r  0%|          | 0/3 [00:00<?, ?it/s]"
          ]
        },
        {
          "output_type": "stream",
          "name": "stdout",
          "text": [
            "Epoch: 0\n",
            ".....\n",
            "Looked at0/60000 sample\n",
            "Looked at12800/60000 sample\n",
            "Looked at25600/60000 sample\n",
            "Looked at38400/60000 sample\n",
            "Looked at51200/60000 sample\n"
          ]
        },
        {
          "output_type": "stream",
          "name": "stderr",
          "text": [
            "\r 33%|███▎      | 1/3 [00:12<00:24, 12.29s/it]"
          ]
        },
        {
          "output_type": "stream",
          "name": "stdout",
          "text": [
            "Train_loss: 0.6309297680854797 Test_Loss: 0.5482093691825867 Test_acc: 80.66094249201278\n",
            "Epoch: 1\n",
            ".....\n",
            "Looked at0/60000 sample\n",
            "Looked at12800/60000 sample\n",
            "Looked at25600/60000 sample\n",
            "Looked at38400/60000 sample\n",
            "Looked at51200/60000 sample\n"
          ]
        },
        {
          "output_type": "stream",
          "name": "stderr",
          "text": [
            "\r 67%|██████▋   | 2/3 [00:24<00:12, 12.27s/it]"
          ]
        },
        {
          "output_type": "stream",
          "name": "stdout",
          "text": [
            "Train_loss: 0.5153616070747375 Test_Loss: 0.5334231853485107 Test_acc: 81.49960063897764\n",
            "Epoch: 2\n",
            ".....\n",
            "Looked at0/60000 sample\n",
            "Looked at12800/60000 sample\n",
            "Looked at25600/60000 sample\n",
            "Looked at38400/60000 sample\n",
            "Looked at51200/60000 sample\n"
          ]
        },
        {
          "output_type": "stream",
          "name": "stderr",
          "text": [
            "100%|██████████| 3/3 [00:36<00:00, 12.29s/it]"
          ]
        },
        {
          "output_type": "stream",
          "name": "stdout",
          "text": [
            "Train_loss: 0.497974693775177 Test_Loss: 0.5585033297538757 Test_acc: 81.10023961661342\n"
          ]
        },
        {
          "output_type": "stream",
          "name": "stderr",
          "text": [
            "\n"
          ]
        }
      ]
    },
    {
      "cell_type": "code",
      "source": [
        "test_ans = eval_model(model1, test_dataloader, Loss, accuracy_fn, device)\n",
        "\n",
        "\n",
        "ANS.append(test_ans)"
      ],
      "metadata": {
        "id": "qsj1B0_Awcp3"
      },
      "execution_count": 32,
      "outputs": []
    },
    {
      "cell_type": "code",
      "source": [
        "ANS"
      ],
      "metadata": {
        "colab": {
          "base_uri": "https://localhost:8080/"
        },
        "id": "j4eZh-55ybox",
        "outputId": "19a87200-1ac3-41e8-e7d0-d4abe1d3aea3"
      },
      "execution_count": 33,
      "outputs": [
        {
          "output_type": "execute_result",
          "data": {
            "text/plain": [
              "[{'model_name': 'FashionMNISTv0',\n",
              "  'model_loss': 0.5648816227912903,\n",
              "  'model_acc': 81.01038338658147},\n",
              " {'model_name': 'FashionMNISTv1',\n",
              "  'model_loss': 0.5585033297538757,\n",
              "  'model_acc': 81.10023961661342}]"
            ]
          },
          "metadata": {},
          "execution_count": 33
        }
      ]
    },
    {
      "cell_type": "code",
      "source": [
        "len(ANS)"
      ],
      "metadata": {
        "colab": {
          "base_uri": "https://localhost:8080/"
        },
        "id": "V9ZqssyOzaGX",
        "outputId": "52d6c1b7-6274-4c48-abb6-5b0d20021f65"
      },
      "execution_count": 34,
      "outputs": [
        {
          "output_type": "execute_result",
          "data": {
            "text/plain": [
              "2"
            ]
          },
          "metadata": {},
          "execution_count": 34
        }
      ]
    },
    {
      "cell_type": "markdown",
      "source": [
        "## Convolutional Layer\n"
      ],
      "metadata": {
        "id": "Udhfaso30qdS"
      }
    },
    {
      "cell_type": "code",
      "source": [
        "#torch.nn.Conv2d(in_channels, out_channels, kernel_size, stride=1, padding=0, dilation=1, groups=1, bias=True, padding_mode='zeros', device=None, dtype=None)\n",
        "\n",
        "\n",
        "class FashionMNISTv2(nn.Module):\n",
        "    def __init__(self, input_shape, hidden_units, output_shape):\n",
        "        super().__init__()\n",
        "        self.conv1_stack= nn.Sequential(\n",
        "            nn.Conv2d(in_channels=input_shape,\n",
        "                      out_channels=hidden_units,\n",
        "                      kernel_size=2,\n",
        "                      stride=1,\n",
        "                      padding=1\n",
        "                      ),\n",
        "            nn.ReLU(),\n",
        "            nn.Conv2d(in_channels=hidden_units,\n",
        "                      out_channels=hidden_units,\n",
        "                      kernel_size=2,\n",
        "                      stride=1,\n",
        "                      padding=1\n",
        "                      ),\n",
        "            nn.ReLU(),\n",
        "            nn.MaxPool2d(kernel_size=2)\n",
        "        )\n",
        "        self.conv2_stack= nn.Sequential(\n",
        "            nn.Conv2d(in_channels=hidden_units,\n",
        "                      out_channels=hidden_units,\n",
        "                      kernel_size=2,\n",
        "                      stride=1,\n",
        "                      padding=1\n",
        "                      ),\n",
        "            nn.ReLU(),\n",
        "            nn.Conv2d(in_channels=hidden_units,\n",
        "                      out_channels=output_shape,\n",
        "                      kernel_size=2,\n",
        "                      stride=1,\n",
        "                      padding=1\n",
        "                      ),\n",
        "            nn.ReLU(),\n",
        "            nn.MaxPool2d(kernel_size=2)\n",
        "        )\n",
        "        self.classifier=nn.Sequential(\n",
        "            nn.Flatten(),\n",
        "            nn.Linear(in_features=hidden_units*64, ## There is trick to calculating this\n",
        "                      out_features= output_shape\n",
        "                      )\n",
        "\n",
        "\n",
        "        )\n",
        "    def forward(self, x):\n",
        "        x=self.conv1_stack(x)\n",
        "        #print(x.shape)\n",
        "        x=self.conv2_stack(x)\n",
        "        #print(x.shape)\n",
        "        x=self.classifier(x)\n",
        "        #print(x.shape)\n",
        "        return x\n",
        "\n"
      ],
      "metadata": {
        "id": "TgzQMit4HRqZ"
      },
      "execution_count": 35,
      "outputs": []
    },
    {
      "cell_type": "code",
      "source": [
        "torch.manual_seed(42)\n",
        "torch.cuda.manual_seed(42)\n",
        "model2=FashionMNISTv2(input_shape=1, hidden_units=10, output_shape=10)\n"
      ],
      "metadata": {
        "id": "8cy9_dm8QXQT"
      },
      "execution_count": 36,
      "outputs": []
    },
    {
      "cell_type": "markdown",
      "source": [
        "## Setup the Loss function and Optimizer"
      ],
      "metadata": {
        "id": "d5-AZ9O-lOJr"
      }
    },
    {
      "cell_type": "code",
      "source": [
        "from helper_function import accuracy_fn\n",
        "loss=nn.CrossEntropyLoss()\n",
        "optimizer= torch.optim.Adam(params=model2.parameters(), lr=0.01)"
      ],
      "metadata": {
        "id": "ydTnG9lkJL39"
      },
      "execution_count": 42,
      "outputs": []
    },
    {
      "cell_type": "markdown",
      "source": [
        "## 4. Start training and Testing the Application"
      ],
      "metadata": {
        "id": "kpMTxTDDm4De"
      }
    },
    {
      "cell_type": "code",
      "source": [
        "for batch, (X_train, y_train) in enumerate(train_dataloader):\n",
        "        y_logit=model2(X_train) #traning\n",
        "        print(y_logit.shape)\n",
        "        break"
      ],
      "metadata": {
        "colab": {
          "base_uri": "https://localhost:8080/"
        },
        "id": "P6eZ9Muf1UrD",
        "outputId": "5214113e-98c1-491e-daa6-9dff098f8283"
      },
      "execution_count": 77,
      "outputs": [
        {
          "output_type": "stream",
          "name": "stdout",
          "text": [
            "torch.Size([32, 10])\n"
          ]
        }
      ]
    },
    {
      "cell_type": "code",
      "source": [
        "torch.manual_seed(42)\n",
        "torch.cuda.manual_seed(42)\n",
        "epochs=3\n",
        "for epoch in tqdm(range(epochs)):\n",
        "    l,a=0,0\n",
        "    #print(f\"Epoch: {epoch}\\n.....\")\n",
        "    for batch, (X_train, y_train) in enumerate(train_dataloader):\n",
        "        y_logit=model2(X_train) #traning\n",
        "        y_pred=y_logit.argmax(1)\n",
        "        lossy=loss(y_logit, y_train)  # calculate the loss\n",
        "        l+=lossy\n",
        "        optimizer.zero_grad()         # making the optimizer to zero\n",
        "        lossy.backward()               #back propagation\n",
        "        optimizer.step()\n",
        "        if(batch%400==0):\n",
        "            print(f\"Looked at: {batch*len(X_train)}/ {len(train_data)} sample\")            # Step taken by the optimizer\n",
        "    l/=len(train_dataloader) # Here i am dividing it to calculate the loss for each batch\n",
        "    test_loss, test_acc=0,0\n",
        "    for X_test, y_test in test_dataloader:\n",
        "        y_logit_pred= model2(X_test)\n",
        "        y_pred_test=y_logit_pred.argmax(1)\n",
        "        test_loss+=loss(y_logit_pred, y_test)\n",
        "        test_acc+=accuracy_fn(y_test, y_pred_test)\n",
        "    test_loss/=len(test_dataloader)     #Here i am divinding with the lenth of the test_loader because i have to calculate the loss for each batch\n",
        "    test_acc/=len(test_dataloader)      # Here i am dividing with the length of the test loader to accuracy because i have to calculate the accuracy for each batch\n",
        "    print(f\"\\nTrain_loss: {l} || Test-Loss: {test_loss} || Test-Acc: {test_acc}\")\n",
        "\n"
      ],
      "metadata": {
        "colab": {
          "base_uri": "https://localhost:8080/"
        },
        "id": "6THiMtrzHvtq",
        "outputId": "1affcf5d-7c1d-42d5-ce5c-8a495fa2fb8e"
      },
      "execution_count": 43,
      "outputs": [
        {
          "output_type": "stream",
          "name": "stderr",
          "text": [
            "\r  0%|          | 0/3 [00:00<?, ?it/s]"
          ]
        },
        {
          "output_type": "stream",
          "name": "stdout",
          "text": [
            "Looked at: 0/ 60000 sample\n",
            "Looked at: 12800/ 60000 sample\n",
            "Looked at: 25600/ 60000 sample\n",
            "Looked at: 38400/ 60000 sample\n",
            "Looked at: 51200/ 60000 sample\n"
          ]
        },
        {
          "output_type": "stream",
          "name": "stderr",
          "text": [
            "\r 33%|███▎      | 1/3 [00:54<01:48, 54.24s/it]"
          ]
        },
        {
          "output_type": "stream",
          "name": "stdout",
          "text": [
            "\n",
            "Train_loss: 0.4841940999031067 || Test-Loss: 0.39789119362831116 || Test-Acc: 85.75279552715655\n",
            "Looked at: 0/ 60000 sample\n",
            "Looked at: 12800/ 60000 sample\n",
            "Looked at: 25600/ 60000 sample\n",
            "Looked at: 38400/ 60000 sample\n",
            "Looked at: 51200/ 60000 sample\n"
          ]
        },
        {
          "output_type": "stream",
          "name": "stderr",
          "text": [
            "\r 67%|██████▋   | 2/3 [01:52<00:56, 56.66s/it]"
          ]
        },
        {
          "output_type": "stream",
          "name": "stdout",
          "text": [
            "\n",
            "Train_loss: 0.37229570746421814 || Test-Loss: 0.36761510372161865 || Test-Acc: 87.04073482428115\n",
            "Looked at: 0/ 60000 sample\n",
            "Looked at: 12800/ 60000 sample\n",
            "Looked at: 25600/ 60000 sample\n",
            "Looked at: 38400/ 60000 sample\n",
            "Looked at: 51200/ 60000 sample\n"
          ]
        },
        {
          "output_type": "stream",
          "name": "stderr",
          "text": [
            "100%|██████████| 3/3 [02:46<00:00, 55.56s/it]"
          ]
        },
        {
          "output_type": "stream",
          "name": "stdout",
          "text": [
            "\n",
            "Train_loss: 0.35310861468315125 || Test-Loss: 0.3683141767978668 || Test-Acc: 86.63138977635782\n"
          ]
        },
        {
          "output_type": "stream",
          "name": "stderr",
          "text": [
            "\n"
          ]
        }
      ]
    },
    {
      "cell_type": "code",
      "source": [
        "ANS.append(eval_model(model2, test_dataloader, loss, accuracy_fn, device))"
      ],
      "metadata": {
        "id": "4xIdS5-_OyuP"
      },
      "execution_count": 44,
      "outputs": []
    },
    {
      "cell_type": "code",
      "source": [
        "ANS"
      ],
      "metadata": {
        "id": "79ImNtDQ5Kn-",
        "outputId": "401fe7cb-e7e7-4afc-f65c-354e181a5303",
        "colab": {
          "base_uri": "https://localhost:8080/"
        }
      },
      "execution_count": 45,
      "outputs": [
        {
          "output_type": "execute_result",
          "data": {
            "text/plain": [
              "[{'model_name': 'FashionMNISTv0',\n",
              "  'model_loss': 0.5648816227912903,\n",
              "  'model_acc': 81.01038338658147},\n",
              " {'model_name': 'FashionMNISTv1',\n",
              "  'model_loss': 0.5585033297538757,\n",
              "  'model_acc': 81.10023961661342},\n",
              " {'model_name': 'FashionMNISTv2',\n",
              "  'model_loss': 0.3683141767978668,\n",
              "  'model_acc': 86.63138977635782}]"
            ]
          },
          "metadata": {},
          "execution_count": 45
        }
      ]
    },
    {
      "cell_type": "markdown",
      "source": [
        "## 3. Make and Evaluate random predictions with best model"
      ],
      "metadata": {
        "id": "O20yA4D9UPSn"
      }
    },
    {
      "cell_type": "code",
      "source": [
        "def make_prediction(model:torch.nn.Module,\n",
        "                    data: list,\n",
        "                    device: torch.device=device):\n",
        "    pred_prob=[]\n",
        "    model.to(device)\n",
        "    model.eval()\n",
        "    with torch.inference_mode():\n",
        "        for sample in data:\n",
        "            sample=torch.unsqueeze(sample, dim=0).to(device)\n",
        "            pred_logit=model(sample)\n",
        "            #Get the prediiction probabilities\n",
        "            pred_proba=pred_logit.squeeze().softmax(dim=0)\n",
        "            pred_prob.append(pred_proba.cpu())\n",
        "    return torch.stack(pred_prob)\n"
      ],
      "metadata": {
        "id": "c7MaEBPGUI7y"
      },
      "execution_count": 78,
      "outputs": []
    },
    {
      "cell_type": "code",
      "source": [
        "import random\n",
        "random.seed(42)\n",
        "test_samples=[]\n",
        "test_labels=[]\n",
        "for sample, label in random.sample(list(test_data), k=9):\n",
        "    test_samples.append(sample)\n",
        "    test_labels.append(label)"
      ],
      "metadata": {
        "id": "Ag-NNOiLZFdk"
      },
      "execution_count": 79,
      "outputs": []
    },
    {
      "cell_type": "code",
      "source": [
        "pred_prob=make_prediction(model2, test_samples)\n"
      ],
      "metadata": {
        "id": "W9XB6esVZLbJ"
      },
      "execution_count": 80,
      "outputs": []
    },
    {
      "cell_type": "code",
      "source": [
        "pred_class=pred_prob.argmax(dim=1)\n",
        "pred_class.shape"
      ],
      "metadata": {
        "colab": {
          "base_uri": "https://localhost:8080/"
        },
        "id": "PAFuTyVbZMay",
        "outputId": "6555d4fe-aa80-4cc9-8818-2e8d7d3a5b95"
      },
      "execution_count": 83,
      "outputs": [
        {
          "output_type": "execute_result",
          "data": {
            "text/plain": [
              "torch.Size([9])"
            ]
          },
          "metadata": {},
          "execution_count": 83
        }
      ]
    },
    {
      "cell_type": "code",
      "source": [
        "plt.figure(figsize=(9,9))\n",
        "nrows=3\n",
        "ncols=3\n",
        "for i, sample in enumerate(test_samples):\n",
        "    plt.subplot(nrows, ncols, i+1)\n",
        "    plt.imshow(sample.squeeze(), cmap=\"gray\")\n",
        "    pred_label=class_name[pred_class[i]]\n",
        "    truth_label=class_name[test_labels[i]]\n",
        "    title_text=f\"pred : {pred_label} | Truth: {truth_label}\"\n",
        "    if pred_label==truth_label:\n",
        "        plt.title(title_text, fontsize=10, c=\"g\")\n",
        "    else:\n",
        "        plt.title(title_text, fontsize=10, c=\"r\")\n",
        "    plt.axis(False)"
      ],
      "metadata": {
        "colab": {
          "base_uri": "https://localhost:8080/",
          "height": 749
        },
        "id": "VQyzcF2AZctw",
        "outputId": "bf832967-d08c-4b87-cc37-b9f6e3b23afd"
      },
      "execution_count": 84,
      "outputs": [
        {
          "output_type": "display_data",
          "data": {
            "text/plain": [
              "<Figure size 900x900 with 9 Axes>"
            ],
            "image/png": "[encoded data removed]"
          },
          "metadata": {}
        }
      ]
    },
    {
      "cell_type": "code",
      "source": [
        "from tqdm.auto import tqdm"
      ],
      "metadata": {
        "id": "J7qtaJNvcsYJ"
      },
      "execution_count": 86,
      "outputs": []
    },
    {
      "cell_type": "code",
      "source": [
        "y_preds=[]\n",
        "model2.eval()\n",
        "with torch.inference_mode():\n",
        "    for X, y in tqdm(test_dataloader, desc=\" Making predictions......\"):\n",
        "        X,y= X.to(device), y.to(device)\n",
        "        #print(X.shape)\n",
        "        y_logit=model2(X)\n",
        "        #print(y_logit.shape)\n",
        "        y_pred=y_logit.softmax(1).argmax(1)\n",
        "        y_preds.append(y_pred.cpu())\n"
      ],
      "metadata": {
        "colab": {
          "base_uri": "https://localhost:8080/",
          "height": 49,
          "referenced_widgets": [
            "987527ff664e482e9e7e3ae6491a54fa",
            "b59021b211054d2da5aac952947c6255",
            "69c45b4497b74752b261fe1dbedfb11f",
            "b9223987dd92438f8c4f2dd7f7bf1f97",
            "85752caaf262402fa3dff36050a87a8b",
            "52dd625764b5440a86610e3d15b111b0",
            "fa5a0ce173124407b114fccf790ef7c4",
            "f28b9729124744aaa727390def7bbfe9",
            "4b197b7dfc3b45c2923d14374bfe92ca",
            "03302d42d26a473f9b0520e06c99e90b",
            "aa773b39671041d097f50936eb6abccf"
          ]
        },
        "id": "0EkZbTbu99LL",
        "outputId": "6006b28f-b78b-482e-845b-ae3ba26f42ec"
      },
      "execution_count": 94,
      "outputs": [
        {
          "output_type": "display_data",
          "data": {
            "text/plain": [
              " Making predictions......:   0%|          | 0/313 [00:00<?, ?it/s]"
            ],
            "application/vnd.jupyter.widget-view+json": {
              "version_major": 2,
              "version_minor": 0,
              "model_id": "987527ff664e482e9e7e3ae6491a54fa"
            }
          },
          "metadata": {}
        }
      ]
    },
    {
      "cell_type": "code",
      "source": [
        "len(y_preds), len(test_dataloader), len(test_data)/32\n",
        "cat_y=torch.cat(y_preds)\n",
        "print(len(y_preds))\n",
        "print(len(cat_y))"
      ],
      "metadata": {
        "colab": {
          "base_uri": "https://localhost:8080/"
        },
        "id": "rc3eeKwhadKl",
        "outputId": "04adc726-8be6-4ab5-a3a7-73d5d2c444fe"
      },
      "execution_count": 101,
      "outputs": [
        {
          "output_type": "stream",
          "name": "stdout",
          "text": [
            "313\n",
            "10000\n"
          ]
        }
      ]
    },
    {
      "cell_type": "code",
      "source": [
        "X_tests=[]\n",
        "y_tests=[]\n",
        "for X, y in test_data:\n",
        "    X_tests.append(X)\n",
        "    y_tests.append(y)"
      ],
      "metadata": {
        "id": "Q_yziiCw8Ed1"
      },
      "execution_count": 107,
      "outputs": []
    },
    {
      "cell_type": "code",
      "source": [
        "len(X_tests), len(y_tests)\n",
        "type(X_tests), type(y_tests), type(cat_y)"
      ],
      "metadata": {
        "colab": {
          "base_uri": "https://localhost:8080/"
        },
        "id": "T-24H6JJ8hsA",
        "outputId": "317b4d29-bfdc-4c21-9d5a-42a7fdc7d9cc"
      },
      "execution_count": 110,
      "outputs": [
        {
          "output_type": "execute_result",
          "data": {
            "text/plain": [
              "(list, list, torch.Tensor)"
            ]
          },
          "metadata": {},
          "execution_count": 110
        }
      ]
    },
    {
      "cell_type": "code",
      "source": [
        "from sklearn.metrics import confusion_matrix\n",
        "confusion_matrix(y_tests, cat_y)"
      ],
      "metadata": {
        "colab": {
          "base_uri": "https://localhost:8080/"
        },
        "id": "9y9SKWV77eoj",
        "outputId": "13c81052-a257-4be4-bbd0-f520603f397c"
      },
      "execution_count": 111,
      "outputs": [
        {
          "output_type": "execute_result",
          "data": {
            "text/plain": [
              "array([[843,   0,   9,  28,   4,   2, 102,   0,  12,   0],\n",
              "       [  2, 965,   1,  21,   6,   0,   2,   0,   3,   0],\n",
              "       [ 14,   0, 718,   7, 179,   0,  77,   0,   5,   0],\n",
              "       [ 33,   2,  17, 848,  49,   0,  43,   0,   8,   0],\n",
              "       [  1,   0,  23,  18, 887,   0,  67,   0,   4,   0],\n",
              "       [  0,   0,   0,   0,   0, 977,   0,  15,   3,   5],\n",
              "       [157,   3,  55,  23, 147,   0, 593,   0,  22,   0],\n",
              "       [  0,   0,   0,   0,   0,  40,   0, 897,   2,  61],\n",
              "       [  4,   2,   0,   3,   6,  10,   6,   1, 968,   0],\n",
              "       [  0,   0,   0,   0,   0,  12,   2,  21,   0, 965]])"
            ]
          },
          "metadata": {},
          "execution_count": 111
        }
      ]
    },
    {
      "cell_type": "markdown",
      "source": [
        "## Save the best modeL"
      ],
      "metadata": {
        "id": "iWl-oLSYA7PB"
      }
    },
    {
      "cell_type": "code",
      "source": [
        "\n",
        "from pathlib import Path\n",
        "\n",
        "# Create model dictory path\n",
        "MODEL_PATH = Path(\"models\")\n",
        "MODEL_PATH.mkdir(parents=True,\n",
        "                 exist_ok=True)\n",
        "\n",
        "# Create model save\n",
        "MODEL_NAME = \"03_pytorch_computer_vision_model_2.pth\"\n",
        "MODEL_SAVE_PATH = MODEL_PATH / MODEL_NAME\n",
        "\n",
        "# Save the model state dict\n",
        "print(f\"Saving model to: {MODEL_SAVE_PATH}\")\n",
        "torch.save(obj=model2.state_dict(),\n",
        "           f=MODEL_SAVE_PATH)"
      ],
      "metadata": {
        "colab": {
          "base_uri": "https://localhost:8080/"
        },
        "id": "0HASt-yXyRtS",
        "outputId": "6be7f772-0ea9-4901-ffbc-5db1c440608b"
      },
      "execution_count": 112,
      "outputs": [
        {
          "output_type": "stream",
          "name": "stdout",
          "text": [
            "Saving model to: models/03_pytorch_computer_vision_model_2.pth\n"
          ]
        }
      ]
    },
    {
      "cell_type": "markdown",
      "source": [
        "## Create new Instance and Load the model"
      ],
      "metadata": {
        "id": "ePc2X7hYBN6M"
      }
    },
    {
      "cell_type": "code",
      "source": [
        "# Create a new instance\n",
        "torch.manual_seed(42)\n",
        "\n",
        "loaded_model_2 = FashionMNISTv2(input_shape=1,\n",
        "                                     hidden_units=10,\n",
        "                                     output_shape=len(class_name))\n",
        "\n",
        "# Load in the save state_dict()\n",
        "loaded_model_2.load_state_dict(torch.load(f=MODEL_SAVE_PATH))\n",
        "\n",
        "# Send the model to the target device\n",
        "loaded_model_2.to(device)"
      ],
      "metadata": {
        "colab": {
          "base_uri": "https://localhost:8080/"
        },
        "id": "tELUxXhQBCIj",
        "outputId": "5b0e4128-6afa-4251-c964-d4a7b5d397ac"
      },
      "execution_count": 116,
      "outputs": [
        {
          "output_type": "execute_result",
          "data": {
            "text/plain": [
              "FashionMNISTv2(\n",
              "  (conv1_stack): Sequential(\n",
              "    (0): Conv2d(1, 10, kernel_size=(2, 2), stride=(1, 1), padding=(1, 1))\n",
              "    (1): ReLU()\n",
              "    (2): Conv2d(10, 10, kernel_size=(2, 2), stride=(1, 1), padding=(1, 1))\n",
              "    (3): ReLU()\n",
              "    (4): MaxPool2d(kernel_size=2, stride=2, padding=0, dilation=1, ceil_mode=False)\n",
              "  )\n",
              "  (conv2_stack): Sequential(\n",
              "    (0): Conv2d(10, 10, kernel_size=(2, 2), stride=(1, 1), padding=(1, 1))\n",
              "    (1): ReLU()\n",
              "    (2): Conv2d(10, 10, kernel_size=(2, 2), stride=(1, 1), padding=(1, 1))\n",
              "    (3): ReLU()\n",
              "    (4): MaxPool2d(kernel_size=2, stride=2, padding=0, dilation=1, ceil_mode=False)\n",
              "  )\n",
              "  (classifier): Sequential(\n",
              "    (0): Flatten(start_dim=1, end_dim=-1)\n",
              "    (1): Linear(in_features=640, out_features=10, bias=True)\n",
              "  )\n",
              ")"
            ]
          },
          "metadata": {},
          "execution_count": 116
        }
      ]
    },
    {
      "cell_type": "code",
      "source": [],
      "metadata": {
        "id": "L0yFr57kBTj6"
      },
      "execution_count": null,
      "outputs": []
    }
  ],
  "metadata": {
    "colab": {
      "provenance": [],
      "gpuType": "T4"
    },
    "kernelspec": {
      "display_name": "Python 3",
      "name": "python3"
    },
    "language_info": {
      "name": "python"
    },
    "accelerator": "GPU",
    "widgets": {
      "application/vnd.jupyter.widget-state+json": {
        "987527ff664e482e9e7e3ae6491a54fa": {
          "model_module": "@jupyter-widgets/controls",
          "model_name": "HBoxModel",
          "model_module_version": "1.5.0",
          "state": {
            "_dom_classes": [],
            "_model_module": "@jupyter-widgets/controls",
            "_model_module_version": "1.5.0",
            "_model_name": "HBoxModel",
            "_view_count": null,
            "_view_module": "@jupyter-widgets/controls",
            "_view_module_version": "1.5.0",
            "_view_name": "HBoxView",
            "box_style": "",
            "children": [
              "IPY_MODEL_b59021b211054d2da5aac952947c6255",
              "IPY_MODEL_69c45b4497b74752b261fe1dbedfb11f",
              "IPY_MODEL_b9223987dd92438f8c4f2dd7f7bf1f97"
            ],
            "layout": "IPY_MODEL_85752caaf262402fa3dff36050a87a8b"
          }
        },
        "b59021b211054d2da5aac952947c6255": {
          "model_module": "@jupyter-widgets/controls",
          "model_name": "HTMLModel",
          "model_module_version": "1.5.0",
          "state": {
            "_dom_classes": [],
            "_model_module": "@jupyter-widgets/controls",
            "_model_module_version": "1.5.0",
            "_model_name": "HTMLModel",
            "_view_count": null,
            "_view_module": "@jupyter-widgets/controls",
            "_view_module_version": "1.5.0",
            "_view_name": "HTMLView",
            "description": "",
            "description_tooltip": null,
            "layout": "IPY_MODEL_52dd625764b5440a86610e3d15b111b0",
            "placeholder": "​",
            "style": "IPY_MODEL_fa5a0ce173124407b114fccf790ef7c4",
            "value": " Making predictions......: 100%"
          }
        },
        "69c45b4497b74752b261fe1dbedfb11f": {
          "model_module": "@jupyter-widgets/controls",
          "model_name": "FloatProgressModel",
          "model_module_version": "1.5.0",
          "state": {
            "_dom_classes": [],
            "_model_module": "@jupyter-widgets/controls",
            "_model_module_version": "1.5.0",
            "_model_name": "FloatProgressModel",
            "_view_count": null,
            "_view_module": "@jupyter-widgets/controls",
            "_view_module_version": "1.5.0",
            "_view_name": "ProgressView",
            "bar_style": "success",
            "description": "",
            "description_tooltip": null,
            "layout": "IPY_MODEL_f28b9729124744aaa727390def7bbfe9",
            "max": 313,
            "min": 0,
            "orientation": "horizontal",
            "style": "IPY_MODEL_4b197b7dfc3b45c2923d14374bfe92ca",
            "value": 313
          }
        },
        "b9223987dd92438f8c4f2dd7f7bf1f97": {
          "model_module": "@jupyter-widgets/controls",
          "model_name": "HTMLModel",
          "model_module_version": "1.5.0",
          "state": {
            "_dom_classes": [],
            "_model_module": "@jupyter-widgets/controls",
            "_model_module_version": "1.5.0",
            "_model_name": "HTMLModel",
            "_view_count": null,
            "_view_module": "@jupyter-widgets/controls",
            "_view_module_version": "1.5.0",
            "_view_name": "HTMLView",
            "description": "",
            "description_tooltip": null,
            "layout": "IPY_MODEL_03302d42d26a473f9b0520e06c99e90b",
            "placeholder": "​",
            "style": "IPY_MODEL_aa773b39671041d097f50936eb6abccf",
            "value": " 313/313 [00:05&lt;00:00, 69.78it/s]"
          }
        },
        "85752caaf262402fa3dff36050a87a8b": {
          "model_module": "@jupyter-widgets/base",
          "model_name": "LayoutModel",
          "model_module_version": "1.2.0",
          "state": {
            "_model_module": "@jupyter-widgets/base",
            "_model_module_version": "1.2.0",
            "_model_name": "LayoutModel",
            "_view_count": null,
            "_view_module": "@jupyter-widgets/base",
            "_view_module_version": "1.2.0",
            "_view_name": "LayoutView",
            "align_content": null,
            "align_items": null,
            "align_self": null,
            "border": null,
            "bottom": null,
            "display": null,
            "flex": null,
            "flex_flow": null,
            "grid_area": null,
            "grid_auto_columns": null,
            "grid_auto_flow": null,
            "grid_auto_rows": null,
            "grid_column": null,
            "grid_gap": null,
            "grid_row": null,
            "grid_template_areas": null,
            "grid_template_columns": null,
            "grid_template_rows": null,
            "height": null,
            "justify_content": null,
            "justify_items": null,
            "left": null,
            "margin": null,
            "max_height": null,
            "max_width": null,
            "min_height": null,
            "min_width": null,
            "object_fit": null,
            "object_position": null,
            "order": null,
            "overflow": null,
            "overflow_x": null,
            "overflow_y": null,
            "padding": null,
            "right": null,
            "top": null,
            "visibility": null,
            "width": null
          }
        },
        "52dd625764b5440a86610e3d15b111b0": {
          "model_module": "@jupyter-widgets/base",
          "model_name": "LayoutModel",
          "model_module_version": "1.2.0",
          "state": {
            "_model_module": "@jupyter-widgets/base",
            "_model_module_version": "1.2.0",
            "_model_name": "LayoutModel",
            "_view_count": null,
            "_view_module": "@jupyter-widgets/base",
            "_view_module_version": "1.2.0",
            "_view_name": "LayoutView",
            "align_content": null,
            "align_items": null,
            "align_self": null,
            "border": null,
            "bottom": null,
            "display": null,
            "flex": null,
            "flex_flow": null,
            "grid_area": null,
            "grid_auto_columns": null,
            "grid_auto_flow": null,
            "grid_auto_rows": null,
            "grid_column": null,
            "grid_gap": null,
            "grid_row": null,
            "grid_template_areas": null,
            "grid_template_columns": null,
            "grid_template_rows": null,
            "height": null,
            "justify_content": null,
            "justify_items": null,
            "left": null,
            "margin": null,
            "max_height": null,
            "max_width": null,
            "min_height": null,
            "min_width": null,
            "object_fit": null,
            "object_position": null,
            "order": null,
            "overflow": null,
            "overflow_x": null,
            "overflow_y": null,
            "padding": null,
            "right": null,
            "top": null,
            "visibility": null,
            "width": null
          }
        },
        "fa5a0ce173124407b114fccf790ef7c4": {
          "model_module": "@jupyter-widgets/controls",
          "model_name": "DescriptionStyleModel",
          "model_module_version": "1.5.0",
          "state": {
            "_model_module": "@jupyter-widgets/controls",
            "_model_module_version": "1.5.0",
            "_model_name": "DescriptionStyleModel",
            "_view_count": null,
            "_view_module": "@jupyter-widgets/base",
            "_view_module_version": "1.2.0",
            "_view_name": "StyleView",
            "description_width": ""
          }
        },
        "f28b9729124744aaa727390def7bbfe9": {
          "model_module": "@jupyter-widgets/base",
          "model_name": "LayoutModel",
          "model_module_version": "1.2.0",
          "state": {
            "_model_module": "@jupyter-widgets/base",
            "_model_module_version": "1.2.0",
            "_model_name": "LayoutModel",
            "_view_count": null,
            "_view_module": "@jupyter-widgets/base",
            "_view_module_version": "1.2.0",
            "_view_name": "LayoutView",
            "align_content": null,
            "align_items": null,
            "align_self": null,
            "border": null,
            "bottom": null,
            "display": null,
            "flex": null,
            "flex_flow": null,
            "grid_area": null,
            "grid_auto_columns": null,
            "grid_auto_flow": null,
            "grid_auto_rows": null,
            "grid_column": null,
            "grid_gap": null,
            "grid_row": null,
            "grid_template_areas": null,
            "grid_template_columns": null,
            "grid_template_rows": null,
            "height": null,
            "justify_content": null,
            "justify_items": null,
            "left": null,
            "margin": null,
            "max_height": null,
            "max_width": null,
            "min_height": null,
            "min_width": null,
            "object_fit": null,
            "object_position": null,
            "order": null,
            "overflow": null,
            "overflow_x": null,
            "overflow_y": null,
            "padding": null,
            "right": null,
            "top": null,
            "visibility": null,
            "width": null
          }
        },
        "4b197b7dfc3b45c2923d14374bfe92ca": {
          "model_module": "@jupyter-widgets/controls",
          "model_name": "ProgressStyleModel",
          "model_module_version": "1.5.0",
          "state": {
            "_model_module": "@jupyter-widgets/controls",
            "_model_module_version": "1.5.0",
            "_model_name": "ProgressStyleModel",
            "_view_count": null,
            "_view_module": "@jupyter-widgets/base",
            "_view_module_version": "1.2.0",
            "_view_name": "StyleView",
            "bar_color": null,
            "description_width": ""
          }
        },
        "03302d42d26a473f9b0520e06c99e90b": {
          "model_module": "@jupyter-widgets/base",
          "model_name": "LayoutModel",
          "model_module_version": "1.2.0",
          "state": {
            "_model_module": "@jupyter-widgets/base",
            "_model_module_version": "1.2.0",
            "_model_name": "LayoutModel",
            "_view_count": null,
            "_view_module": "@jupyter-widgets/base",
            "_view_module_version": "1.2.0",
            "_view_name": "LayoutView",
            "align_content": null,
            "align_items": null,
            "align_self": null,
            "border": null,
            "bottom": null,
            "display": null,
            "flex": null,
            "flex_flow": null,
            "grid_area": null,
            "grid_auto_columns": null,
            "grid_auto_flow": null,
            "grid_auto_rows": null,
            "grid_column": null,
            "grid_gap": null,
            "grid_row": null,
            "grid_template_areas": null,
            "grid_template_columns": null,
            "grid_template_rows": null,
            "height": null,
            "justify_content": null,
            "justify_items": null,
            "left": null,
            "margin": null,
            "max_height": null,
            "max_width": null,
            "min_height": null,
            "min_width": null,
            "object_fit": null,
            "object_position": null,
            "order": null,
            "overflow": null,
            "overflow_x": null,
            "overflow_y": null,
            "padding": null,
            "right": null,
            "top": null,
            "visibility": null,
            "width": null
          }
        },
        "aa773b39671041d097f50936eb6abccf": {
          "model_module": "@jupyter-widgets/controls",
          "model_name": "DescriptionStyleModel",
          "model_module_version": "1.5.0",
          "state": {
            "_model_module": "@jupyter-widgets/controls",
            "_model_module_version": "1.5.0",
            "_model_name": "DescriptionStyleModel",
            "_view_count": null,
            "_view_module": "@jupyter-widgets/base",
            "_view_module_version": "1.2.0",
            "_view_name": "StyleView",
            "description_width": ""
          }
        }
      }
    }
  },
  "nbformat": 4,
  "nbformat_minor": 0
}